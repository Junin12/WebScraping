{
 "cells": [
  {
   "cell_type": "markdown",
   "source": [
    "# Creating a template for Data Scraping \n",
    "### Top players from Tribal Wars\n"
   ],
   "metadata": {
    "collapsed": false
   },
   "id": "a277caad4d7c052c"
  },
  {
   "cell_type": "code",
   "outputs": [],
   "source": [
    "# Importing the required libraries\n",
    "import requests\n",
    "from bs4 import BeautifulSoup\n",
    "import pandas as pd"
   ],
   "metadata": {
    "collapsed": false,
    "ExecuteTime": {
     "end_time": "2024-03-05T18:25:59.046845300Z",
     "start_time": "2024-03-05T18:25:58.990575900Z"
    }
   },
   "id": "a2b1b152f7f2c0c9",
   "execution_count": 106
  },
  {
   "cell_type": "code",
   "outputs": [],
   "source": [
    "# Creating a pop up to the user to input the world number\n",
    "world_number = input('Enter the world number: ')"
   ],
   "metadata": {
    "collapsed": false,
    "ExecuteTime": {
     "end_time": "2024-03-05T18:26:14.871475300Z",
     "start_time": "2024-03-05T18:26:00.976183600Z"
    }
   },
   "id": "356d6922cf670720",
   "execution_count": 107
  },
  {
   "cell_type": "code",
   "outputs": [],
   "source": [
    "# Setting the URL\n",
    "url = rf'https://br.twstats.com/br{world_number}/index.php?page=rankings&mode=players'\n",
    "# Requesting the page\n",
    "page = requests.get(url)\n",
    "# Parsing the page\n",
    "soup = BeautifulSoup(page.content, 'html.parser')\n",
    "# Displaying the page\n",
    "print(soup.prettify())"
   ],
   "metadata": {
    "collapsed": false
   },
   "id": "9926d21fa1538284",
   "execution_count": null
  },
  {
   "cell_type": "code",
   "outputs": [],
   "source": [
    "# Getting a list of all the data from the tag th (table header)\n",
    "titles = soup.find_all('th')\n",
    "#Getting the text from th and making a list\n",
    "titles = [title.get_text() for title in titles]"
   ],
   "metadata": {
    "collapsed": false
   },
   "id": "9c47941e2e27ca65",
   "execution_count": null
  },
  {
   "cell_type": "code",
   "outputs": [],
   "source": [
    "# Getting a list of all the data from the tag td (table data)\n",
    "data = soup.find_all('td')\n",
    "# Getting the text from td and making a list\n",
    "data = [rawdata.get_text() for rawdata in data]\n",
    "newdata = data[3:-3]"
   ],
   "metadata": {
    "collapsed": false
   },
   "id": "dd5d24805c38c760",
   "execution_count": null
  },
  {
   "cell_type": "code",
   "outputs": [
    {
     "data": {
      "text/plain": "   Posição                Nome   Tribo     Pontos Aldeias  \\\n0        1         Mighty King  Nenhum  3,533,840     311   \n1        2        Mané Galinha     XPK  3,231,761     326   \n2        3             Sublime     XPK  2,831,818     267   \n3        4        Matheusszika     XPK  2,748,183     277   \n4        5    BAD BOYS REVENGE    Lost  2,536,646     244   \n5        6        Kaniel Outis     XPK  2,501,517     262   \n6        7      Dick Dastardly     XPK  2,390,909     238   \n7        8         - Caça-Pato     XPK  2,383,595     234   \n8        9           Ratueira3     XPK  2,302,275     231   \n9       10             JoMaHei     XPK  2,279,869     229   \n10      11          feijaoxdtu  [Lost]  2,260,905     237   \n11      12         Dark Heitor     XPK  2,232,686     255   \n12      13          We are Bad  [Lost]  2,209,331     225   \n13      14  Lord Trafalgar Law     XPK  2,102,909     234   \n14      15      ReinoDaMaromba   [NFS]  2,089,599     212   \n15      16               Suets     XPK  2,084,665     224   \n16      17    OvoDeJaguatirica     FTA  2,053,720     230   \n17      18           Wars-Lord  [Lost]  2,031,114     188   \n18      19               henri  [Lost]  2,019,200     224   \n19      20      Carta na Manga  [Lost]  1,891,570     196   \n\n   Média de pontos por aldeia World  \n0                      11,363   124  \n1                       9,913   124  \n2                      10,606   124  \n3                       9,921   124  \n4                      10,396   124  \n5                       9,548   124  \n6                      10,046   124  \n7                      10,186   124  \n8                       9,967   124  \n9                       9,956   124  \n10                      9,540   124  \n11                      8,756   124  \n12                      9,819   124  \n13                      8,987   124  \n14                      9,857   124  \n15                      9,307   124  \n16                      8,929   124  \n17                     10,804   124  \n18                      9,014   124  \n19                      9,651   124  ",
      "text/html": "<div>\n<style scoped>\n    .dataframe tbody tr th:only-of-type {\n        vertical-align: middle;\n    }\n\n    .dataframe tbody tr th {\n        vertical-align: top;\n    }\n\n    .dataframe thead th {\n        text-align: right;\n    }\n</style>\n<table border=\"1\" class=\"dataframe\">\n  <thead>\n    <tr style=\"text-align: right;\">\n      <th></th>\n      <th>Posição</th>\n      <th>Nome</th>\n      <th>Tribo</th>\n      <th>Pontos</th>\n      <th>Aldeias</th>\n      <th>Média de pontos por aldeia</th>\n      <th>World</th>\n    </tr>\n  </thead>\n  <tbody>\n    <tr>\n      <th>0</th>\n      <td>1</td>\n      <td>Mighty King</td>\n      <td>Nenhum</td>\n      <td>3,533,840</td>\n      <td>311</td>\n      <td>11,363</td>\n      <td>124</td>\n    </tr>\n    <tr>\n      <th>1</th>\n      <td>2</td>\n      <td>Mané Galinha</td>\n      <td>XPK</td>\n      <td>3,231,761</td>\n      <td>326</td>\n      <td>9,913</td>\n      <td>124</td>\n    </tr>\n    <tr>\n      <th>2</th>\n      <td>3</td>\n      <td>Sublime</td>\n      <td>XPK</td>\n      <td>2,831,818</td>\n      <td>267</td>\n      <td>10,606</td>\n      <td>124</td>\n    </tr>\n    <tr>\n      <th>3</th>\n      <td>4</td>\n      <td>Matheusszika</td>\n      <td>XPK</td>\n      <td>2,748,183</td>\n      <td>277</td>\n      <td>9,921</td>\n      <td>124</td>\n    </tr>\n    <tr>\n      <th>4</th>\n      <td>5</td>\n      <td>BAD BOYS REVENGE</td>\n      <td>Lost</td>\n      <td>2,536,646</td>\n      <td>244</td>\n      <td>10,396</td>\n      <td>124</td>\n    </tr>\n    <tr>\n      <th>5</th>\n      <td>6</td>\n      <td>Kaniel Outis</td>\n      <td>XPK</td>\n      <td>2,501,517</td>\n      <td>262</td>\n      <td>9,548</td>\n      <td>124</td>\n    </tr>\n    <tr>\n      <th>6</th>\n      <td>7</td>\n      <td>Dick Dastardly</td>\n      <td>XPK</td>\n      <td>2,390,909</td>\n      <td>238</td>\n      <td>10,046</td>\n      <td>124</td>\n    </tr>\n    <tr>\n      <th>7</th>\n      <td>8</td>\n      <td>- Caça-Pato</td>\n      <td>XPK</td>\n      <td>2,383,595</td>\n      <td>234</td>\n      <td>10,186</td>\n      <td>124</td>\n    </tr>\n    <tr>\n      <th>8</th>\n      <td>9</td>\n      <td>Ratueira3</td>\n      <td>XPK</td>\n      <td>2,302,275</td>\n      <td>231</td>\n      <td>9,967</td>\n      <td>124</td>\n    </tr>\n    <tr>\n      <th>9</th>\n      <td>10</td>\n      <td>JoMaHei</td>\n      <td>XPK</td>\n      <td>2,279,869</td>\n      <td>229</td>\n      <td>9,956</td>\n      <td>124</td>\n    </tr>\n    <tr>\n      <th>10</th>\n      <td>11</td>\n      <td>feijaoxdtu</td>\n      <td>[Lost]</td>\n      <td>2,260,905</td>\n      <td>237</td>\n      <td>9,540</td>\n      <td>124</td>\n    </tr>\n    <tr>\n      <th>11</th>\n      <td>12</td>\n      <td>Dark Heitor</td>\n      <td>XPK</td>\n      <td>2,232,686</td>\n      <td>255</td>\n      <td>8,756</td>\n      <td>124</td>\n    </tr>\n    <tr>\n      <th>12</th>\n      <td>13</td>\n      <td>We are Bad</td>\n      <td>[Lost]</td>\n      <td>2,209,331</td>\n      <td>225</td>\n      <td>9,819</td>\n      <td>124</td>\n    </tr>\n    <tr>\n      <th>13</th>\n      <td>14</td>\n      <td>Lord Trafalgar Law</td>\n      <td>XPK</td>\n      <td>2,102,909</td>\n      <td>234</td>\n      <td>8,987</td>\n      <td>124</td>\n    </tr>\n    <tr>\n      <th>14</th>\n      <td>15</td>\n      <td>ReinoDaMaromba</td>\n      <td>[NFS]</td>\n      <td>2,089,599</td>\n      <td>212</td>\n      <td>9,857</td>\n      <td>124</td>\n    </tr>\n    <tr>\n      <th>15</th>\n      <td>16</td>\n      <td>Suets</td>\n      <td>XPK</td>\n      <td>2,084,665</td>\n      <td>224</td>\n      <td>9,307</td>\n      <td>124</td>\n    </tr>\n    <tr>\n      <th>16</th>\n      <td>17</td>\n      <td>OvoDeJaguatirica</td>\n      <td>FTA</td>\n      <td>2,053,720</td>\n      <td>230</td>\n      <td>8,929</td>\n      <td>124</td>\n    </tr>\n    <tr>\n      <th>17</th>\n      <td>18</td>\n      <td>Wars-Lord</td>\n      <td>[Lost]</td>\n      <td>2,031,114</td>\n      <td>188</td>\n      <td>10,804</td>\n      <td>124</td>\n    </tr>\n    <tr>\n      <th>18</th>\n      <td>19</td>\n      <td>henri</td>\n      <td>[Lost]</td>\n      <td>2,019,200</td>\n      <td>224</td>\n      <td>9,014</td>\n      <td>124</td>\n    </tr>\n    <tr>\n      <th>19</th>\n      <td>20</td>\n      <td>Carta na Manga</td>\n      <td>[Lost]</td>\n      <td>1,891,570</td>\n      <td>196</td>\n      <td>9,651</td>\n      <td>124</td>\n    </tr>\n  </tbody>\n</table>\n</div>"
     },
     "metadata": {},
     "output_type": "display_data"
    }
   ],
   "source": [
    "# Reshape newdata into a 2D list where each sub-list is a row of data\n",
    "reshaped_data = [newdata[i:i+6] for i in range(0, len(newdata), 6)]\n",
    "# Create a DataFrame using reshaped_data and titles excluding index\n",
    "df = pd.DataFrame(reshaped_data, columns=titles)\n",
    "# Add a column to the DataFrame with the world number\n",
    "df['World'] = world_number\n",
    "display(df)"
   ],
   "metadata": {
    "collapsed": false,
    "ExecuteTime": {
     "end_time": "2024-03-05T18:32:41.404792900Z",
     "start_time": "2024-03-05T18:32:41.298341200Z"
    }
   },
   "id": "73d76498f8b5289f",
   "execution_count": 113
  },
  {
   "cell_type": "markdown",
   "source": [
    "# Collecting the data from the top players of all worlds"
   ],
   "metadata": {
    "collapsed": false
   },
   "id": "5e1e5925a94b9e18"
  },
  {
   "cell_type": "code",
   "outputs": [],
   "source": [
    "# Now we will do the same process for world 1 to 126 (all worlds) and return a DataFrame with all the data\n",
    "def get_top_players():\n",
    "    # Create an empty list to store the DataFrames\n",
    "    df_list = []\n",
    "    # Loop through the worlds 1 to 126\n",
    "    for world in range(1, 127):\n",
    "        # Setting the URL\n",
    "        url = rf'https://br.twstats.com/br{world}/index.php?page=rankings&mode=players'\n",
    "        # Requesting the page\n",
    "        page = requests.get(url)\n",
    "        # Parsing the page\n",
    "        soup = BeautifulSoup(page.content, 'html.parser')\n",
    "        # Getting a list of all the data from the tag th (table header)\n",
    "        titles = soup.find_all('th')\n",
    "        # Getting the text from th and making a list\n",
    "        titles = [title.get_text() for title in titles]\n",
    "        # Getting a list of all the data from the tag td (table data)\n",
    "        data = soup.find_all('td')\n",
    "        # Getting the text from td and making a list\n",
    "        data = [rawdata.get_text() for rawdata in data]\n",
    "        newdata = data[3:-3]\n",
    "        # Reshape newdata into a 2D list where each sub-list is a row of data\n",
    "        reshaped_data = [newdata[i:i+6] for i in range(0, len(newdata), 6)]\n",
    "        # Create a DataFrame using reshaped_data and titles \n",
    "        df = pd.DataFrame(reshaped_data, columns=titles)\n",
    "        # Add a column to the DataFrame with the world number\n",
    "        df['World'] = world\n",
    "        # Append the DataFrame to the list\n",
    "        df_list.append(df)\n",
    "    # Concatenate all the DataFrames in the list\n",
    "    result = pd.concat(df_list, ignore_index=True)\n",
    "    return result\n",
    "\n",
    "# Create a excel file with the data\n",
    "df = get_top_players()\n",
    "df.to_excel('top_players.xlsx', index=False)"
   ],
   "metadata": {
    "collapsed": false
   },
   "id": "eae5f24439f870aa",
   "execution_count": null
  },
  {
   "cell_type": "markdown",
   "source": [
    "# Collecting the data from the top tribes of all worlds"
   ],
   "metadata": {
    "collapsed": false
   },
   "id": "6813ae3f61638ffc"
  },
  {
   "cell_type": "code",
   "outputs": [
    {
     "name": "stdout",
     "output_type": "stream",
     "text": [
      "The world 1 was colected!\n",
      "The world 2 was colected!\n",
      "The world 3 was colected!\n",
      "The world 4 was colected!\n",
      "The world 5 was colected!\n",
      "The world 6 was colected!\n",
      "The world 7 was colected!\n",
      "The world 8 was colected!\n",
      "The world 9 was colected!\n",
      "The world 10 was colected!\n",
      "The world 11 was colected!\n",
      "The world 12 was colected!\n",
      "The world 13 was colected!\n",
      "The world 14 was colected!\n",
      "The world 15 was colected!\n",
      "The world 16 was colected!\n",
      "The world 17 was colected!\n",
      "The world 18 was colected!\n",
      "The world 19 was colected!\n",
      "The world 20 was colected!\n",
      "The world 21 was colected!\n",
      "The world 22 was colected!\n",
      "The world 23 was colected!\n",
      "The world 24 was colected!\n",
      "The world 25 was colected!\n",
      "The world 26 was colected!\n",
      "The world 27 was colected!\n",
      "The world 28 was colected!\n",
      "The world 29 was colected!\n",
      "The world 30 was colected!\n",
      "The world 31 was colected!\n",
      "The world 32 was colected!\n",
      "The world 33 was colected!\n",
      "The world 34 was colected!\n",
      "The world 35 was colected!\n",
      "The world 36 was colected!\n",
      "The world 37 was colected!\n",
      "The world 38 was colected!\n",
      "The world 39 was colected!\n",
      "The world 40 was colected!\n",
      "The world 41 was colected!\n",
      "The world 42 was colected!\n",
      "The world 43 was colected!\n",
      "The world 44 was colected!\n",
      "The world 45 was colected!\n",
      "The world 46 was colected!\n",
      "The world 47 was colected!\n",
      "The world 48 was colected!\n",
      "The world 49 was colected!\n",
      "The world 50 was colected!\n",
      "The world 51 was colected!\n",
      "The world 52 was colected!\n",
      "The world 53 was colected!\n",
      "The world 54 was colected!\n",
      "The world 55 was colected!\n",
      "The world 56 was colected!\n",
      "The world 57 was colected!\n",
      "The world 58 was colected!\n",
      "The world 59 was colected!\n",
      "The world 60 was colected!\n",
      "The world 61 was colected!\n",
      "The world 62 was colected!\n",
      "The world 63 was colected!\n",
      "The world 64 was colected!\n",
      "The world 65 was colected!\n",
      "The world 66 was colected!\n",
      "The world 67 was colected!\n",
      "The world 68 was colected!\n",
      "The world 69 was colected!\n",
      "The world 70 was colected!\n",
      "The world 71 was colected!\n",
      "The world 72 was colected!\n",
      "The world 73 was colected!\n",
      "The world 74 was colected!\n",
      "The world 75 was colected!\n",
      "The world 76 was colected!\n",
      "The world 77 was colected!\n",
      "The world 78 was colected!\n",
      "The world 79 was colected!\n",
      "The world 80 was colected!\n",
      "The world 81 was colected!\n",
      "The world 82 was colected!\n",
      "The world 83 was colected!\n",
      "The world 84 was colected!\n",
      "The world 85 was colected!\n",
      "The world 86 was colected!\n",
      "The world 87 was colected!\n",
      "The world 88 was colected!\n",
      "The world 89 was colected!\n",
      "The world 90 was colected!\n",
      "The world 91 was colected!\n",
      "The world 92 was colected!\n",
      "The world 93 was colected!\n",
      "The world 94 was colected!\n",
      "The world 95 was colected!\n",
      "The world 96 was colected!\n",
      "The world 97 was colected!\n",
      "The world 98 was colected!\n",
      "The world 99 was colected!\n",
      "The world 100 was colected!\n",
      "The world 101 was colected!\n",
      "The world 102 was colected!\n",
      "The world 103 was colected!\n",
      "The world 104 was colected!\n",
      "The world 105 was colected!\n",
      "The world 106 was colected!\n",
      "The world 107 was colected!\n",
      "The world 108 was colected!\n",
      "The world 109 was colected!\n",
      "The world 110 was colected!\n",
      "The world 111 was colected!\n",
      "The world 112 was colected!\n",
      "The world 113 was colected!\n",
      "The world 114 was colected!\n",
      "The world 115 was colected!\n",
      "The world 116 was colected!\n",
      "The world 117 was colected!\n",
      "The world 118 was colected!\n",
      "The world 119 was colected!\n",
      "The world 120 was colected!\n",
      "The world 121 was colected!\n",
      "The world 122 was colected!\n",
      "The world 123 was colected!\n",
      "The world 124 was colected!\n",
      "The world 125 was colected!\n",
      "The world 126 was colected!\n",
      "Dataframe successfully created!\n"
     ]
    }
   ],
   "source": [
    "def get_top_tribes():\n",
    "    df_list = []\n",
    "    for world in range(1, 127):\n",
    "        url = rf'https://br.twstats.com/br{world}/index.php?page=rankings&mode=tribes'\n",
    "        page = requests.get(url)\n",
    "        soup = BeautifulSoup(page.content, 'html.parser')\n",
    "        \n",
    "        titles = soup.find_all('th')\n",
    "        titles = [title.get_text() for title in titles]\n",
    "\n",
    "        data = soup.find_all('td')\n",
    "        data = [rawdata.get_text() for rawdata in data]\n",
    "        newdata = data[3:-3]\n",
    "\n",
    "        reshaped_data = [newdata[i:i + 8] for i in range(0, len(newdata), 8)]\n",
    "        df = pd.DataFrame(reshaped_data, columns=titles)\n",
    "        \n",
    "        df['World'] = world\n",
    "        df_list.append(df)\n",
    "        print(f\"The world {world} was collected!\")\n",
    "\n",
    "    result = pd.concat(df_list, ignore_index=True)\n",
    "    return result\n",
    "\n",
    "df = get_top_tribes()\n",
    "\n",
    "df.to_excel('top_tribes.xlsx', index=False)\n",
    "print(\"Dataframe successfully created!\")\n"
   ],
   "metadata": {
    "collapsed": false,
    "ExecuteTime": {
     "end_time": "2024-03-05T17:25:20.122351300Z",
     "start_time": "2024-03-05T17:23:08.007389Z"
    }
   },
   "id": "8d2c676890fd3240",
   "execution_count": 105
  }
 ],
 "metadata": {
  "kernelspec": {
   "display_name": "Python 3",
   "language": "python",
   "name": "python3"
  },
  "language_info": {
   "codemirror_mode": {
    "name": "ipython",
    "version": 2
   },
   "file_extension": ".py",
   "mimetype": "text/x-python",
   "name": "python",
   "nbconvert_exporter": "python",
   "pygments_lexer": "ipython2",
   "version": "2.7.6"
  }
 },
 "nbformat": 4,
 "nbformat_minor": 5
}
